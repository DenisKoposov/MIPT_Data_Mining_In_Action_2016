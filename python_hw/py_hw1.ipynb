{
 "cells": [
  {
   "cell_type": "markdown",
   "metadata": {},
   "source": [
    "# 1. Python"
   ]
  },
  {
   "cell_type": "markdown",
   "metadata": {},
   "source": [
    "### Fizzbuzz question"
   ]
  },
  {
   "cell_type": "code",
   "execution_count": 1,
   "metadata": {
    "collapsed": false
   },
   "outputs": [
    {
     "name": "stdout",
     "output_type": "stream",
     "text": [
      "1\n",
      "2\n",
      "Fizz\n",
      "4\n",
      "Buzz\n",
      "Fizz\n",
      "7\n",
      "8\n",
      "Fizz\n",
      "Buzz\n",
      "11\n",
      "Fizz\n",
      "13\n",
      "14\n",
      "FizzBuzz\n",
      "16\n",
      "17\n",
      "Fizz\n",
      "19\n",
      "Buzz\n",
      "Fizz\n",
      "22\n",
      "23\n",
      "Fizz\n",
      "Buzz\n",
      "26\n",
      "Fizz\n",
      "28\n",
      "29\n",
      "FizzBuzz\n",
      "31\n",
      "32\n",
      "Fizz\n",
      "34\n",
      "Buzz\n",
      "Fizz\n",
      "37\n",
      "38\n",
      "Fizz\n",
      "Buzz\n",
      "41\n",
      "Fizz\n",
      "43\n",
      "44\n",
      "FizzBuzz\n",
      "46\n",
      "47\n",
      "Fizz\n",
      "49\n",
      "Buzz\n",
      "Fizz\n",
      "52\n",
      "53\n",
      "Fizz\n",
      "Buzz\n",
      "56\n",
      "Fizz\n",
      "58\n",
      "59\n",
      "FizzBuzz\n",
      "61\n",
      "62\n",
      "Fizz\n",
      "64\n",
      "Buzz\n",
      "Fizz\n",
      "67\n",
      "68\n",
      "Fizz\n",
      "Buzz\n",
      "71\n",
      "Fizz\n",
      "73\n",
      "74\n",
      "FizzBuzz\n",
      "76\n",
      "77\n",
      "Fizz\n",
      "79\n",
      "Buzz\n",
      "Fizz\n",
      "82\n",
      "83\n",
      "Fizz\n",
      "Buzz\n",
      "86\n",
      "Fizz\n",
      "88\n",
      "89\n",
      "FizzBuzz\n",
      "91\n",
      "92\n",
      "Fizz\n",
      "94\n",
      "Buzz\n",
      "Fizz\n",
      "97\n",
      "98\n",
      "Fizz\n",
      "Buzz\n"
     ]
    }
   ],
   "source": [
    "for i in xrange(1, 101):\n",
    "    \n",
    "    if (i % 15 == 0):\n",
    "        print \"FizzBuzz\"\n",
    "        continue\n",
    "        \n",
    "    if (i % 3 == 0):\n",
    "        print \"Fizz\"\n",
    "        continue\n",
    "        \n",
    "    if (i % 5 == 0):\n",
    "        print \"Buzz\"\n",
    "        continue\n",
    "        \n",
    "    print i"
   ]
  },
  {
   "cell_type": "markdown",
   "metadata": {},
   "source": [
    "### №100"
   ]
  },
  {
   "cell_type": "code",
   "execution_count": 2,
   "metadata": {
    "collapsed": false
   },
   "outputs": [
    {
     "name": "stdout",
     "output_type": "stream",
     "text": [
      "218922995834555169026\n"
     ]
    }
   ],
   "source": [
    "a = 0\n",
    "b = 1\n",
    "n = 0\n",
    "\n",
    "for i in xrange(98):\n",
    "    n = a + b\n",
    "    a = b\n",
    "    b = n\n",
    "print n"
   ]
  },
  {
   "cell_type": "markdown",
   "metadata": {},
   "source": [
    "### quicksort 1"
   ]
  },
  {
   "cell_type": "code",
   "execution_count": 3,
   "metadata": {
    "collapsed": false
   },
   "outputs": [
    {
     "name": "stdout",
     "output_type": "stream",
     "text": [
      "[3, 5, 7, 12, 14, 16, 33, 45, 72, 100]\n"
     ]
    }
   ],
   "source": [
    "def sort(arr):\n",
    "    \n",
    "    if len(arr) <= 1:\n",
    "        return arr\n",
    "    \n",
    "    equal = []\n",
    "    less = []\n",
    "    greater = []\n",
    "    pivot = arr[0]\n",
    "    \n",
    "    for el in arr:\n",
    "        if (el > pivot):\n",
    "            greater.append(el)\n",
    "            continue\n",
    "        if (el == pivot):\n",
    "            equal.append(el)\n",
    "            continue\n",
    "        less.append(el)\n",
    "        \n",
    "    return sort(less) + equal + sort(greater)\n",
    "\n",
    "test = [14, 12, 100, 5, 3, 16, 7, 33, 72, 45]\n",
    "print sort(test)"
   ]
  },
  {
   "cell_type": "markdown",
   "metadata": {},
   "source": [
    "### quicksort in one line"
   ]
  },
  {
   "cell_type": "code",
   "execution_count": 4,
   "metadata": {
    "collapsed": false
   },
   "outputs": [
    {
     "name": "stdout",
     "output_type": "stream",
     "text": [
      "[3, 5, 7, 12, 14, 16, 33, 45, 72, 100]\n"
     ]
    }
   ],
   "source": [
    "def sort(a):\n",
    "    if a: return sort([x for x in a if x < a[0]]) + [x for x in a if x == a[0]] + sort([x for x in a if x > a[0]])\n",
    "    return []\n",
    "\n",
    "test = [14, 12, 100, 5, 3, 16, 7, 33, 72, 45]\n",
    "print sort(test)"
   ]
  },
  {
   "cell_type": "markdown",
   "metadata": {},
   "source": [
    "# 2. NumPy"
   ]
  },
  {
   "cell_type": "markdown",
   "metadata": {},
   "source": [
    "### numpy.linspace"
   ]
  },
  {
   "cell_type": "code",
   "execution_count": 17,
   "metadata": {
    "collapsed": false
   },
   "outputs": [
    {
     "data": {
      "image/png": "[encoded data removed]",
      "text/plain": [
       "<matplotlib.figure.Figure at 0x7fb71ab95e90>"
      ]
     },
     "metadata": {},
     "output_type": "display_data"
    },
    {
     "name": "stdout",
     "output_type": "stream",
     "text": [
      "17.3878163908\n",
      "10.2562195924\n"
     ]
    }
   ],
   "source": [
    "%matplotlib inline\n",
    "import matplotlib.pyplot as plt\n",
    "import numpy as np\n",
    "import time\n",
    "\n",
    "def linspace1(start, stop, num):\n",
    "    ans = []\n",
    "    step = (stop - start)/num\n",
    "    for i in xrange(num):\n",
    "        tmp = start + i * step\n",
    "        ans.append(tmp)\n",
    "    return ans\n",
    "\n",
    "def linspace2(start, stop, num):\n",
    "    step = (stop - start) / num\n",
    "    return [ (start + (step) * i) for i in xrange(num) ]\n",
    "\n",
    "start = 100\n",
    "stop  = 1000000\n",
    "\n",
    "nums = []\n",
    "ratio1 = []\n",
    "ratio2 = []\n",
    "\n",
    "for num in xrange(100, 100100, 1000):\n",
    "    time0 = time.time()\n",
    "    list1 = linspace1(start, stop, num)\n",
    "    time1 = time.time()\n",
    "    list2 = linspace2(start, stop, num)\n",
    "    time2 = time.time()\n",
    "    list3 = np.linspace(start, stop, num)\n",
    "    time3 = time.time()\n",
    "    nums.append(num)\n",
    "    ratio1.append((time1 - time0)/(time3 - time2))\n",
    "    ratio2.append((time2 - time1)/(time3 - time2))\n",
    "\n",
    "for num in xrange(110000, 1000000, 10000):\n",
    "    time0 = time.time()\n",
    "    list1 = linspace1(start, stop, num)\n",
    "    time1 = time.time()\n",
    "    list2 = linspace2(start, stop, num)\n",
    "    time2 = time.time()\n",
    "    list3 = np.linspace(start, stop, num)\n",
    "    time3 = time.time()\n",
    "    nums.append(num)\n",
    "    ratio1.append((time1 - time0)/(time3 - time2))\n",
    "    ratio2.append((time2 - time1)/(time3 - time2))\n",
    "\n",
    "coef1 = np.mean(ratio1)\n",
    "coef2 = np.mean(ratio2)\n",
    "\n",
    "plt.plot(nums, ratio1, nums, ratio2)\n",
    "plt.show()\n",
    "print coef1\n",
    "print coef2\n",
    "# Функция из библиотеки numpy выглядит наиболее привлекательно при больших и средних n. При малых n все примерно равны.\n",
    "# В среднем она в 15-25 раз быстрее цикла и в 10-15 раз быстрее функции с генератором."
   ]
  },
  {
   "cell_type": "markdown",
   "metadata": {},
   "source": [
    "### Сравнение быстродействия numpy.ndarray и list"
   ]
  },
  {
   "cell_type": "code",
   "execution_count": 6,
   "metadata": {
    "collapsed": false
   },
   "outputs": [
    {
     "name": "stdout",
     "output_type": "stream",
     "text": [
      "list1 + list2<type 'list'>: 0.00101494789124\n",
      "nd1 + nd2<type 'numpy.ndarray'>: 0.000336170196533\n",
      "list * scalar<type 'list'>: 0.041571855545\n",
      "nd1 * nd2<type 'numpy.ndarray'>: 0.000320196151733\n",
      "nda1 / nda2<type 'numpy.ndarray'>: 0.000287771224976\n"
     ]
    }
   ],
   "source": [
    "nda1 = np.random.normal(1, 1, 100000)\n",
    "nda2 = np.random.normal(1, 1, 100000)\n",
    "\n",
    "lst1 = list(np.random.normal(0, 1, 100000))\n",
    "lst2 = list(np.random.normal(0, 1, 100000))\n",
    "\n",
    "time1 = time.time()\n",
    "ans1 = lst1 + lst2\n",
    "time2 = time.time()\n",
    "ans2 = nda1 + nda2\n",
    "time3 = time.time()\n",
    "ans3 = 100 * lst1\n",
    "time4 = time.time()\n",
    "ans4 = nda1 * nda2\n",
    "time5 = time.time()\n",
    "ans5 = nda1 / nda2\n",
    "time6 = time.time()\n",
    "\n",
    "print \"list1 + list2\"+str(type(ans1))+\": \"+str(time2 - time1)\n",
    "print \"nd1 + nd2\"+str(type(ans2))+\": \"+str(time3 - time2)\n",
    "print \"list * scalar\"+str(type(ans3))+\": \"+str(time4 - time3)\n",
    "print \"nd1 * nd2\"+str(type(ans4))+\": \"+str(time5 - time4)\n",
    "print \"nda1 / nda2\"+str(type(ans5))+\": \"+str(time6 - time5)\n",
    "\n",
    "#For self-development\n",
    "#nda1 = np.ndarray(5, buffer=np.array([1, 2, 3, 4, 5]), dtype='int')\n",
    "#nda2 = np.ndarray(5, buffer=np.array([6, 7, 8, 9, 10]), dtype='int')\n",
    "#lst1 = [1, 2, 3, 4, 5]\n",
    "#lst2 = [6, 7, 8, 9, 10]\n",
    "\n",
    "#print len(lst1 + lst2)\n",
    "#print (nda1 + nda2).shape\n",
    "#print nda1 + nda2\n",
    "#print len(100 * lst1)\n",
    "#print (nda1 * nda2).shape\n",
    "#print nda1 * nda2\n",
    "#print (nda1 / nda2).shape\n",
    "#print nda2 / nda1"
   ]
  },
  {
   "cell_type": "markdown",
   "metadata": {},
   "source": [
    "# 3. Matplotlib"
   ]
  },
  {
   "cell_type": "code",
   "execution_count": 7,
   "metadata": {
    "collapsed": false,
    "scrolled": false
   },
   "outputs": [
    {
     "data": {
      "image/png": "[encoded data removed]",
      "text/plain": [
       "<matplotlib.figure.Figure at 0x7fb7201d7350>"
      ]
     },
     "metadata": {},
     "output_type": "display_data"
    }
   ],
   "source": [
    "%matplotlib inline\n",
    "import matplotlib.pyplot as plt\n",
    "\n",
    "x = np.arange(-5, 5.01, 0.1)\n",
    "\n",
    "y = 50 * np.sin(x)\n",
    "z = x ** 3\n",
    "g = -np.exp(x)\n",
    "f = 12 * np.cos(x)\n",
    "h = 2 * x\n",
    "\n",
    "plt.grid(True)\n",
    "\n",
    "plt.subplot(131)\n",
    "plt.xlabel(r'$x$')   \n",
    "plt.ylabel(r'$f(x)$')\n",
    "plt.title(r'$y(x)=50sin(x), z(x)=x^3, g(x)=-e^x$')\n",
    "plt.plot(x, y, x, z, x, g)\n",
    "\n",
    "plt.subplot(133)\n",
    "plt.xlabel(r'$x$')   \n",
    "plt.ylabel(r'$f(x)$')\n",
    "plt.title(r'$f(x)=12cos(x), h(x)=2x$')\n",
    "plt.plot(x, f, x, h)\n",
    "\n",
    "\n",
    "plt.savefig(\"new_figure\", dpi=200, orientation='landscape')\n",
    "plt.show()"
   ]
  },
  {
   "cell_type": "markdown",
   "metadata": {},
   "source": [
    "# 4. SciPy "
   ]
  },
  {
   "cell_type": "code",
   "execution_count": 8,
   "metadata": {
    "collapsed": false
   },
   "outputs": [
    {
     "name": "stdout",
     "output_type": "stream",
     "text": [
      "(-0.670608906027+2.23809684942j) is an eigenvalue.\n",
      "(-0.670608906027-2.23809684942j) is an eigenvalue.\n",
      "(-1.62295747466+0j) is an eigenvalue.\n",
      "(0.480273697579+0j) is an eigenvalue.\n",
      "(1.16837713636+0j) is an eigenvalue.\n"
     ]
    }
   ],
   "source": [
    "import scipy\n",
    "    \n",
    "A = np.random.normal(0, 1, (5, 5))\n",
    "w, v = np.linalg.eig(A) # w - eigenvalues, v - eigenvectors\n",
    "\n",
    "for i in xrange(5):\n",
    "    z = np.dot(A, v[:,i]) - w[i] * v[:,i] # Check if Ax=wx, w is supposed to be an eingevalue\n",
    "    if [x for x in z if np.absolute(x) > 1e-14]:\n",
    "        print str(w[i]) +\" is not an eigenvalue.\" \n",
    "    else:\n",
    "        print str(w[i]) +\" is an eigenvalue.\""
   ]
  }
 ],
 "metadata": {
  "kernelspec": {
   "display_name": "Python 2",
   "language": "python",
   "name": "python2"
  },
  "language_info": {
   "codemirror_mode": {
    "name": "ipython",
    "version": 2
   },
   "file_extension": ".py",
   "mimetype": "text/x-python",
   "name": "python",
   "nbconvert_exporter": "python",
   "pygments_lexer": "ipython2",
   "version": "2.7.12"
  }
 },
 "nbformat": 4,
 "nbformat_minor": 1
}
