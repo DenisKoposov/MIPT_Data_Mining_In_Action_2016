{
 "cells": [
  {
   "cell_type": "markdown",
   "metadata": {},
   "source": [
    "### Входные данные\n",
    "Форма для сдачи: https://goo.gl/forms/qptFQ1ukuCxeMEA63\n",
    "\n",
    "У вас имеется поток данных (генератор data_stream). Поля это случайные величины - так сделано для упрощения генерации данных. Есть три поля (названы по уровню сложности задания)\n",
    "\n",
    "### Задание\n",
    "##### Мотивация:\n",
    "У вас есть куча временных рядов, вы хотите научиться предсказывать следующее значение по 1000 предыдущим. 1000 признаков окна это слишком много, однако вы решили заменить их 5ю: средним, дисперсией, минимумом, медианой и максимумом. Однако, все эти признаки надо подсчитать, причём хочется уметь это делать быстро (в течение часа)\n",
    "##### Для каждого поля нужно сделать следующее:\n",
    "\n",
    "1. Пробежаться по данным окном размера 1000 (окно сдвигается на 1, то есть следующее окно пересекается с предыдущим по 999 элементам).\n",
    "\n",
    "2. Для каждого окна посчитайте среднее значение поля и его дисперсию. Делайте yield этих значений, получая генератор tuple. \n",
    "\n",
    "3. Для каждого окна найдите минимум, медиану и максимум в нём. Делайте yield этих значений, получая генератор tuple. \n",
    "\n",
    "Ответом, который нужно будет засабмитить в гугл форму, является среднее значение tuple по получившемуся потоку, округлённое до 3 знака после запятой.\n",
    "\n",
    "### Замечания\n",
    "\n",
    "1. Обратите внимания как генерируются поля. Постарайтесь понять особенность каждого поля и как это можно использовать. Желательно, чтобы для каждого поля у вас было своё решение, максимально эффективно использующее знание об этом поле.\n",
    "2. Полезные библиотеки: itertools, numpy, collections + всё что найдёте в интернете и можно поставить через pip install"
   ]
  },
  {
   "cell_type": "markdown",
   "metadata": {},
   "source": [
    "#### Генерация данных"
   ]
  },
  {
   "cell_type": "code",
   "execution_count": 13,
   "metadata": {
    "collapsed": false
   },
   "outputs": [],
   "source": [
    "from collections import namedtuple\n",
    "import random\n",
    "\n",
    "Record = namedtuple('Record', 'easy medium nightmare')\n",
    "\n",
    "def data_stream():\n",
    "    random_generator = random.Random(42)\n",
    "    easy = 0\n",
    "    for _ in tqdm.trange(10000000):\n",
    "        easy += random_generator.randint(0, 2) \n",
    "        medium = random_generator.randint(0, 256 - 1)\n",
    "        nightmare = random_generator.randint(0, 1000000000 - 1)\n",
    "        \n",
    "        yield Record(\n",
    "            easy=easy,\n",
    "            medium=medium,\n",
    "            nightmare=nightmare\n",
    "        )\n",
    "        \n",
    "def easy_stream():\n",
    "    for record in data_stream():\n",
    "        yield record.easy\n",
    "        \n",
    "def medium_stream():\n",
    "    for record in data_stream():\n",
    "        yield record.medium\n",
    "        \n",
    "def nightmare_stream():\n",
    "    for record in data_stream():\n",
    "        yield record.nightmare"
   ]
  },
  {
   "cell_type": "markdown",
   "metadata": {},
   "source": [
    "#### Подсчёт среднего значения tuple по потоку"
   ]
  },
  {
   "cell_type": "code",
   "execution_count": 8,
   "metadata": {
    "collapsed": false
   },
   "outputs": [],
   "source": [
    "import numpy as np\n",
    "import tqdm\n",
    "\n",
    "win_len = 1000 # window size\n",
    "\n",
    "def get_tuple_stream_mean(stream, number_of_values):\n",
    "    result = np.zeros(number_of_values, dtype='object')\n",
    "    count = 0. \n",
    "    for streamed_tuple in stream:\n",
    "        result += streamed_tuple\n",
    "        count += 1\n",
    "    return [round(x, 3) for x in result / count]"
   ]
  },
  {
   "cell_type": "code",
   "execution_count": 4,
   "metadata": {
    "collapsed": false
   },
   "outputs": [
    {
     "name": "stdout",
     "output_type": "stream",
     "text": [
      "523 303.835168498 527.0\n",
      "524.18 303.846753479 528\n",
      "999898.733 296.244179202 999898\n",
      "2000038.711 296.027234354 2000039\n",
      "2999502.424 299.512130345 2999506\n",
      "3999786.572 282.139463415 3999791\n",
      "4998940.183 282.74345883 4998947\n",
      "5998899.229 300.562856253 5998896\n",
      "6998379.896 278.731489402 6998380\n",
      "7997275.767 291.900172509 7997281\n",
      "8998091.797 278.475416852 8998091\n"
     ]
    },
    {
     "data": {
      "text/plain": [
       "[4998569.34, 288.659, 4998069.999, 4998569.173, 4999068.68]"
      ]
     },
     "execution_count": 4,
     "metadata": {},
     "output_type": "execute_result"
    }
   ],
   "source": [
    "#import theano\n",
    "#from theano import tensor as T\n",
    "from collections import deque \n",
    "import itertools\n",
    "\n",
    "#vector = T.vector(\"row\")\n",
    "#mean = T.scalar(\"mean\")\n",
    "#function_std = theano.function([vector, mean], T.sqrt(T.mean((vector - mean) ** 2)))\n",
    "\n",
    "def example(stream):\n",
    "    for value in stream:\n",
    "        yield (value, value + 10)\n",
    "#Easy\n",
    "def calculate_features_easy(stream):\n",
    "    \n",
    "    d = deque([], win_len)\n",
    "    c = 0\n",
    "    for i in stream:\n",
    "        if c < win_len:\n",
    "            d.append(i)\n",
    "            c += 1\n",
    "        else:\n",
    "            break\n",
    "    \n",
    "    s = np.sum(d)\n",
    "    std  = np.std(d)\n",
    "    median  = np.median(d)\n",
    "    \n",
    "    yield ( s / float(win_len),\n",
    "            std,\n",
    "            d[0], #! window always consists of sorted elements\n",
    "            median,\n",
    "            d[-1] ) #!\n",
    "    \n",
    "    c = 0\n",
    "    for value in stream:\n",
    "        old = d.popleft()\n",
    "        d.append(value)\n",
    "        s = s + ( value - old )\n",
    "        std  = np.std(d)\n",
    "        median  = ( d[win_len / 2] + d[ win_len / 2 - 1] ) / 2 #!\n",
    "        if c % 1000000 == 0:\n",
    "            print s / float(win_len), std, median\n",
    "        c += 1\n",
    "        yield ( s / float(win_len),\n",
    "                std,\n",
    "                d[0], #!\n",
    "                median,\n",
    "                d[-1] ) #!\n",
    "get_tuple_stream_mean(calculate_features_easy(easy_stream()), 5)"
   ]
  },
  {
   "cell_type": "code",
   "execution_count": 14,
   "metadata": {
    "collapsed": false
   },
   "outputs": [
    {
     "name": "stderr",
     "output_type": "stream",
     "text": [
      "  0%|          | 1895/10000000 [00:00<18:54, 8809.87it/s] "
     ]
    },
    {
     "name": "stdout",
     "output_type": "stream",
     "text": [
      "127.189 73.5252424613 127.0\n"
     ]
    },
    {
     "name": "stderr",
     "output_type": "stream",
     "text": [
      " 10%|█         | 1001913/10000000 [03:29<31:03, 4829.45it/s]"
     ]
    },
    {
     "name": "stdout",
     "output_type": "stream",
     "text": [
      "128.74 72.5471736183 133.0\n"
     ]
    },
    {
     "name": "stderr",
     "output_type": "stream",
     "text": [
      " 20%|██        | 2001807/10000000 [06:57<27:28, 4851.43it/s]"
     ]
    },
    {
     "name": "stdout",
     "output_type": "stream",
     "text": [
      "124.644 74.5476979121 125.5\n"
     ]
    },
    {
     "name": "stderr",
     "output_type": "stream",
     "text": [
      " 30%|███       | 3001654/10000000 [10:25<25:16, 4613.80it/s]"
     ]
    },
    {
     "name": "stdout",
     "output_type": "stream",
     "text": [
      "123.703 73.1652020499 123.0\n"
     ]
    },
    {
     "name": "stderr",
     "output_type": "stream",
     "text": [
      " 40%|████      | 4001609/10000000 [13:55<20:45, 4817.01it/s]"
     ]
    },
    {
     "name": "stdout",
     "output_type": "stream",
     "text": [
      "126.059 73.5822364365 126.0\n"
     ]
    },
    {
     "name": "stderr",
     "output_type": "stream",
     "text": [
      " 50%|█████     | 5001821/10000000 [17:22<17:03, 4884.76it/s]"
     ]
    },
    {
     "name": "stdout",
     "output_type": "stream",
     "text": [
      "124.137 73.9385300841 123.0\n"
     ]
    },
    {
     "name": "stderr",
     "output_type": "stream",
     "text": [
      " 60%|██████    | 6001752/10000000 [20:48<13:42, 4863.50it/s]"
     ]
    },
    {
     "name": "stdout",
     "output_type": "stream",
     "text": [
      "123.516 73.0099838652 119.5\n"
     ]
    },
    {
     "name": "stderr",
     "output_type": "stream",
     "text": [
      " 70%|███████   | 7001611/10000000 [24:15<10:13, 4886.02it/s]"
     ]
    },
    {
     "name": "stdout",
     "output_type": "stream",
     "text": [
      "127.808 71.4154404593 125.0\n"
     ]
    },
    {
     "name": "stderr",
     "output_type": "stream",
     "text": [
      " 80%|████████  | 8001770/10000000 [27:42<06:50, 4865.50it/s]"
     ]
    },
    {
     "name": "stdout",
     "output_type": "stream",
     "text": [
      "126.354 74.7791193048 128.5\n"
     ]
    },
    {
     "name": "stderr",
     "output_type": "stream",
     "text": [
      " 90%|█████████ | 9001828/10000000 [31:08<03:24, 4890.13it/s]"
     ]
    },
    {
     "name": "stdout",
     "output_type": "stream",
     "text": [
      "125.999 72.4719324911 123.0\n"
     ]
    },
    {
     "name": "stderr",
     "output_type": "stream",
     "text": [
      "100%|██████████| 10000000/10000000 [34:35<00:00, 4817.34it/s]\n"
     ]
    },
    {
     "data": {
      "text/plain": [
       "[127.494, 73.834, 0.02, 127.522, 254.98]"
      ]
     },
     "execution_count": 14,
     "metadata": {},
     "output_type": "execute_result"
    }
   ],
   "source": [
    "#Medium\n",
    "def calculate_features_medium(stream):\n",
    "    \n",
    "    minimum = 0\n",
    "    maximum = 0\n",
    "    max_pos = 0\n",
    "    min_pos = 0\n",
    "    \n",
    "    d = deque([], win_len)\n",
    "    c = 0\n",
    "    for i in stream:\n",
    "        \n",
    "        if c == 0:\n",
    "            minimum = i\n",
    "            maximum = i\n",
    "            \n",
    "        if c < win_len:\n",
    "            d.append(i)\n",
    "            \n",
    "            if minimum >= i:\n",
    "                minimum = i\n",
    "                min_pos = c\n",
    "                \n",
    "            if maximum <= i:\n",
    "                maximum = i\n",
    "                max_pos = c\n",
    "                \n",
    "            c += 1\n",
    "        else:\n",
    "            break\n",
    "    \n",
    "    s = np.sum(d)\n",
    "    std  = np.std(d)\n",
    "    median  = np.median(d)\n",
    "    \n",
    "    yield ( s / float(win_len),\n",
    "            std,\n",
    "            minimum, #! window always consists of sorted elements\n",
    "            median,\n",
    "            maximum ) #!\n",
    "    \n",
    "    c = 0\n",
    "    for value in stream:\n",
    "        \n",
    "        old = d.popleft()\n",
    "        d.append(value)\n",
    "        \n",
    "        min_pos -= 1\n",
    "        max_pos -= 1\n",
    "        \n",
    "        if minimum >= value:\n",
    "            minimum = value\n",
    "            min_pos = win_len - 1\n",
    "        else:\n",
    "            if min_pos == -1:\n",
    "                minimum = np.min(d)\n",
    "            \n",
    "        if maximum <= value:\n",
    "            maximum = value\n",
    "            max_pos = win_len - 1\n",
    "        else:\n",
    "            if max_pos == -1:\n",
    "                maximum = np.max(d)\n",
    "                \n",
    "        s = s + ( value - old )\n",
    "        std  = np.std(d)\n",
    "        median  = np.median(d) #!\n",
    "        \n",
    "        if c % 1000000 == 0:\n",
    "            print s / float(win_len), std, median\n",
    "        c += 1\n",
    "        yield ( s / float(win_len),\n",
    "                std,\n",
    "                minimum, #!\n",
    "                median,\n",
    "                maximum ) #!\n",
    "        \n",
    "get_tuple_stream_mean(calculate_features_medium(medium_stream()), 5)"
   ]
  },
  {
   "cell_type": "code",
   "execution_count": 15,
   "metadata": {
    "collapsed": false
   },
   "outputs": [
    {
     "name": "stderr",
     "output_type": "stream",
     "text": [
      "  0%|          | 1900/10000000 [00:00<18:40, 8919.07it/s] "
     ]
    },
    {
     "name": "stdout",
     "output_type": "stream",
     "text": [
      "496076512.345 290034971.875 506049849.5\n"
     ]
    },
    {
     "name": "stderr",
     "output_type": "stream",
     "text": [
      " 10%|█         | 1001769/10000000 [03:27<31:03, 4827.47it/s]"
     ]
    },
    {
     "name": "stdout",
     "output_type": "stream",
     "text": [
      "501892680.033 288686381.928 511772707.0\n"
     ]
    },
    {
     "name": "stderr",
     "output_type": "stream",
     "text": [
      " 20%|██        | 2001602/10000000 [06:54<27:56, 4771.00it/s]"
     ]
    },
    {
     "name": "stdout",
     "output_type": "stream",
     "text": [
      "495778354.661 291210924.977 499246116.0\n"
     ]
    },
    {
     "name": "stderr",
     "output_type": "stream",
     "text": [
      " 30%|███       | 3001515/10000000 [10:22<24:02, 4850.67it/s]"
     ]
    },
    {
     "name": "stdout",
     "output_type": "stream",
     "text": [
      "504225013.47 288107697.984 494491822.5\n"
     ]
    },
    {
     "name": "stderr",
     "output_type": "stream",
     "text": [
      " 40%|████      | 4001909/10000000 [13:50<20:45, 4814.18it/s]"
     ]
    },
    {
     "name": "stdout",
     "output_type": "stream",
     "text": [
      "501967510.714 288706437.295 522971445.0\n"
     ]
    },
    {
     "name": "stderr",
     "output_type": "stream",
     "text": [
      " 50%|█████     | 5001887/10000000 [7:33:38<17:39, 4715.21it/s]"
     ]
    },
    {
     "name": "stdout",
     "output_type": "stream",
     "text": [
      "495107348.102 284215266.264 490348565.5\n"
     ]
    },
    {
     "name": "stderr",
     "output_type": "stream",
     "text": [
      " 60%|██████    | 6001682/10000000 [7:37:12<13:51, 4811.39it/s]"
     ]
    },
    {
     "name": "stdout",
     "output_type": "stream",
     "text": [
      "491802534.086 285508497.37 486274589.0\n"
     ]
    },
    {
     "name": "stderr",
     "output_type": "stream",
     "text": [
      " 70%|███████   | 7001818/10000000 [7:40:49<11:44, 4257.39it/s]"
     ]
    },
    {
     "name": "stdout",
     "output_type": "stream",
     "text": [
      "519299309.009 283086958.402 533163769.0\n"
     ]
    },
    {
     "name": "stderr",
     "output_type": "stream",
     "text": [
      " 80%|████████  | 8001879/10000000 [7:44:21<06:58, 4778.69it/s]"
     ]
    },
    {
     "name": "stdout",
     "output_type": "stream",
     "text": [
      "514146547.309 293560055.003 541962905.5\n"
     ]
    },
    {
     "name": "stderr",
     "output_type": "stream",
     "text": [
      " 90%|█████████ | 9001927/10000000 [7:47:55<03:35, 4632.92it/s]"
     ]
    },
    {
     "name": "stdout",
     "output_type": "stream",
     "text": [
      "497884689.261 290563191.007 500209379.5\n"
     ]
    },
    {
     "name": "stderr",
     "output_type": "stream",
     "text": [
      "100%|██████████| 10000000/10000000 [7:51:26<00:00, 353.53it/s]\n"
     ]
    },
    {
     "data": {
      "text/plain": [
       "[499909697.53, 288455165.982, 552365.285, 499814174.172, 999409864.069]"
      ]
     },
     "execution_count": 15,
     "metadata": {},
     "output_type": "execute_result"
    }
   ],
   "source": [
    "#Nightmare\n",
    "def calculate_features_nightmare(stream):\n",
    "    \n",
    "    minimum = 0\n",
    "    maximum = 0\n",
    "    max_pos = 0\n",
    "    min_pos = 0\n",
    "    \n",
    "    d = deque([], win_len)\n",
    "    c = 0\n",
    "    for i in stream:\n",
    "        \n",
    "        if c == 0:\n",
    "            minimum = i\n",
    "            maximum = i\n",
    "            \n",
    "        if c < win_len:\n",
    "            d.append(i)\n",
    "            \n",
    "            if minimum >= i:\n",
    "                minimum = i\n",
    "                min_pos = c\n",
    "                \n",
    "            if maximum <= i:\n",
    "                maximum = i\n",
    "                max_pos = c\n",
    "                \n",
    "            c += 1\n",
    "        else:\n",
    "            break\n",
    "    \n",
    "    s = np.sum(d)\n",
    "    std  = np.std(d)\n",
    "    median  = np.median(d)\n",
    "    \n",
    "    yield ( s / float(win_len),\n",
    "            std,\n",
    "            minimum, #! window always consists of sorted elements\n",
    "            median,\n",
    "            maximum ) #!\n",
    "    \n",
    "    c = 0\n",
    "    for value in stream:\n",
    "        \n",
    "        old = d.popleft()\n",
    "        d.append(value)\n",
    "        \n",
    "        min_pos -= 1\n",
    "        max_pos -= 1\n",
    "        \n",
    "        if minimum >= value:\n",
    "            minimum = value\n",
    "            min_pos = win_len - 1\n",
    "        else:\n",
    "            if min_pos == -1:\n",
    "                minimum = np.min(d)\n",
    "            \n",
    "        if maximum <= value:\n",
    "            maximum = value\n",
    "            max_pos = win_len - 1\n",
    "        else:\n",
    "            if max_pos == -1:\n",
    "                maximum = np.max(d)\n",
    "                \n",
    "        s = s + ( value - old )\n",
    "        std  = np.std(d)\n",
    "        median  = np.median(d) #!\n",
    "        \n",
    "        if c % 1000000 == 0:\n",
    "            print s / float(win_len), std, median\n",
    "        c += 1\n",
    "        yield ( s / float(win_len),\n",
    "                std,\n",
    "                minimum, #!\n",
    "                median,\n",
    "                maximum ) #!\n",
    "        \n",
    "get_tuple_stream_mean(calculate_features_nightmare(nightmare_stream()), 5)"
   ]
  },
  {
   "cell_type": "code",
   "execution_count": null,
   "metadata": {
    "collapsed": true
   },
   "outputs": [],
   "source": []
  }
 ],
 "metadata": {
  "kernelspec": {
   "display_name": "Python 2",
   "language": "python",
   "name": "python2"
  },
  "language_info": {
   "codemirror_mode": {
    "name": "ipython",
    "version": 2
   },
   "file_extension": ".py",
   "mimetype": "text/x-python",
   "name": "python",
   "nbconvert_exporter": "python",
   "pygments_lexer": "ipython2",
   "version": "2.7.12"
  }
 },
 "nbformat": 4,
 "nbformat_minor": 0
}
